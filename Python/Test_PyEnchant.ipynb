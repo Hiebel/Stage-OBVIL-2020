{
 "cells": [
  {
   "cell_type": "code",
   "execution_count": 12,
   "metadata": {},
   "outputs": [],
   "source": [
    "import enchant"
   ]
  },
  {
   "cell_type": "code",
   "execution_count": 75,
   "metadata": {},
   "outputs": [
    {
     "data": {
      "text/plain": [
       "True"
      ]
     },
     "execution_count": 75,
     "metadata": {},
     "output_type": "execute_result"
    }
   ],
   "source": [
    "enchant.dict_exists(\"fr\")"
   ]
  },
  {
   "cell_type": "code",
   "execution_count": 77,
   "metadata": {},
   "outputs": [
    {
     "data": {
      "text/plain": [
       "False"
      ]
     },
     "execution_count": 77,
     "metadata": {},
     "output_type": "execute_result"
    }
   ],
   "source": [
    "d = enchant.Dict(\"fr\")\n",
    "d.check(\"Bonjouur\")"
   ]
  },
  {
   "cell_type": "code",
   "execution_count": 24,
   "metadata": {},
   "outputs": [
    {
     "data": {
      "text/plain": [
       "['Bonjour', 'Bourbon']"
      ]
     },
     "execution_count": 24,
     "metadata": {},
     "output_type": "execute_result"
    }
   ],
   "source": [
    "d.suggest(\"Bonjouur\")"
   ]
  },
  {
   "cell_type": "code",
   "execution_count": 80,
   "metadata": {},
   "outputs": [],
   "source": [
    "t = \"je suiis un test ett je pense etre bien ouai\""
   ]
  },
  {
   "cell_type": "code",
   "execution_count": 107,
   "metadata": {},
   "outputs": [
    {
     "name": "stdout",
     "output_type": "stream",
     "text": [
      "ett\n",
      "['et', 'Rett', 'est', 'eut', 'etc', 'eth', 'eût', 'et t']\n",
      "je fdsjfkjsdf un test et je pense etre bien ouai\n",
      "etre\n",
      "['être', 'erre', 'entre', 'âtre']\n",
      "je fdsjfkjsdf un test et je pense être bien ouai\n",
      "je fdsjfkjsdf un test et je pense être bien ouais\n"
     ]
    }
   ],
   "source": [
    "from enchant.checker import SpellChecker\n",
    "chkr = SpellChecker(\"fr\")\n",
    "chkr.replace_always(\"ouai\", \"ouais\")\n",
    "chkr.replace_always(\"suiis\", \"fdsjfkjsdf\")\n",
    "chkr.set_text(t)\n",
    "\n",
    "t2 = t\n",
    "\n",
    "for err in chkr:\n",
    "    print(err.word)\n",
    "    print(d.suggest(err.word))\n",
    "    chkr.replace(chkr.suggest(err.word)[0])\n",
    "    correction_contenu = chkr.get_text()\n",
    "    print(correction_contenu)\n",
    "    \n",
    "correction_contenu = chkr.get_text()\n",
    "print(correction_contenu)"
   ]
  },
  {
   "cell_type": "code",
   "execution_count": 9,
   "metadata": {},
   "outputs": [
    {
     "name": "stdout",
     "output_type": "stream",
     "text": [
      "('je', 0)\n",
      "('suiis', 3)\n",
      "('un', 9)\n",
      "('test', 12)\n",
      "('ett', 17)\n",
      "('je', 21)\n",
      "('pense', 24)\n",
      "('etre', 30)\n",
      "('bien', 35)\n"
     ]
    }
   ],
   "source": [
    "from enchant.tokenize import *\n",
    "\n",
    "tkn = get_tokenizer(None)\n",
    "\n",
    "for el in tkn(t):\n",
    "    print(el)"
   ]
  },
  {
   "cell_type": "code",
   "execution_count": 10,
   "metadata": {},
   "outputs": [],
   "source": [
    "from enchant.pypwl import PyPWL"
   ]
  },
  {
   "cell_type": "code",
   "execution_count": 65,
   "metadata": {},
   "outputs": [],
   "source": [
    "l = PyPWL(pwl=None)"
   ]
  },
  {
   "cell_type": "code",
   "execution_count": 56,
   "metadata": {},
   "outputs": [
    {
     "name": "stdout",
     "output_type": "stream",
     "text": [
      "<enchant.pypwl.PyPWL object at 0x000001B3AF4A6C88>\n"
     ]
    }
   ],
   "source": [
    "print(l)"
   ]
  },
  {
   "cell_type": "code",
   "execution_count": 62,
   "metadata": {},
   "outputs": [
    {
     "data": {
      "text/plain": [
       "False"
      ]
     },
     "execution_count": 62,
     "metadata": {},
     "output_type": "execute_result"
    }
   ],
   "source": [
    "l.check(\"chercher\")"
   ]
  },
  {
   "cell_type": "code",
   "execution_count": 64,
   "metadata": {},
   "outputs": [
    {
     "data": {
      "text/plain": [
       "['cherche']"
      ]
     },
     "execution_count": 64,
     "metadata": {},
     "output_type": "execute_result"
    }
   ],
   "source": [
    "l.suggest(\"chercher\")"
   ]
  },
  {
   "cell_type": "code",
   "execution_count": 63,
   "metadata": {},
   "outputs": [
    {
     "data": {
      "text/plain": [
       "True"
      ]
     },
     "execution_count": 63,
     "metadata": {},
     "output_type": "execute_result"
    }
   ],
   "source": [
    "l.is_added('cherche')"
   ]
  },
  {
   "cell_type": "code",
   "execution_count": 70,
   "metadata": {},
   "outputs": [],
   "source": [
    "liste = {\n",
    "    \"lis\" : \"liste\",\n",
    "    \"des\" : \"de\",\n",
    "    \"motss\" : \"mots\"\n",
    "}"
   ]
  },
  {
   "cell_type": "code",
   "execution_count": 28,
   "metadata": {},
   "outputs": [],
   "source": [
    "import json"
   ]
  },
  {
   "cell_type": "code",
   "execution_count": 46,
   "metadata": {},
   "outputs": [],
   "source": [
    "def ecrire_json(chemin , contenu):\n",
    "    file = open(chemin , \"w\", encoding=\"utf-8\")\n",
    "    file.write(json.dumps(contenu , indent=2, ensure_ascii=False))\n",
    "    file.close()\n",
    "\n",
    "ecrire_json(\"pwl_test.json\", liste)"
   ]
  },
  {
   "cell_type": "code",
   "execution_count": 72,
   "metadata": {},
   "outputs": [
    {
     "name": "stdout",
     "output_type": "stream",
     "text": [
      "lis liste\n",
      "des de\n",
      "motss mots\n"
     ]
    }
   ],
   "source": [
    "for k, v in liste.items():\n",
    "    l.store_replacement(k, v)\n",
    "    print(k, v)"
   ]
  },
  {
   "cell_type": "code",
   "execution_count": 74,
   "metadata": {},
   "outputs": [
    {
     "data": {
      "text/plain": [
       "False"
      ]
     },
     "execution_count": 74,
     "metadata": {},
     "output_type": "execute_result"
    }
   ],
   "source": [
    "l.is_added(\"lis\")"
   ]
  },
  {
   "cell_type": "code",
   "execution_count": 30,
   "metadata": {},
   "outputs": [],
   "source": [
    "import csv\n",
    "from enchant.checker import SpellChecker\n",
    "\n",
    "presence_entetes = True\n",
    "\n",
    "liste_entetes = [\"forme_erronée\", \"forme_correcte\"]\n",
    "\n",
    "t = \"jee suiis un test ett jee pense etre bien ouai\"\n",
    "chkr = SpellChecker(\"fr\")\n",
    "\n",
    "with open('Liste_correction/liste.csv', \"r\", encoding=\"utf-8\", newline='') as csvfile:\n",
    "    if presence_entetes == False:\n",
    "        reader = csv.reader(csvfile, delimiter=',')\n",
    "        for row in reader:\n",
    "            print(row)\n",
    "            chkr.replace_always(row[0], row[1])\n",
    "    else:\n",
    "        reader = csv.DictReader(csvfile, delimiter=',')\n",
    "        for row in reader:\n",
    "            chkr.replace_always(row[liste_entetes[0]], row[liste_entetes[1]])"
   ]
  },
  {
   "cell_type": "code",
   "execution_count": 31,
   "metadata": {},
   "outputs": [
    {
     "name": "stdout",
     "output_type": "stream",
     "text": [
      "etre\n",
      "['être', 'erre', 'entre', 'âtre']\n",
      "jeu suis un test et jeu pense être bien ouai\n",
      "jeu suis un test et jeu pense être bien ouais\n"
     ]
    }
   ],
   "source": [
    "chkr.set_text(t)\n",
    "for err in chkr:\n",
    "    print(err.word)\n",
    "    print(chkr.suggest(err.word))\n",
    "    chkr.replace(chkr.suggest(err.word)[0])\n",
    "    correction_contenu = chkr.get_text()\n",
    "    print(correction_contenu)\n",
    "    \n",
    "correction_contenu = chkr.get_text()\n",
    "print(correction_contenu)"
   ]
  },
  {
   "cell_type": "code",
   "execution_count": null,
   "metadata": {},
   "outputs": [],
   "source": []
  }
 ],
 "metadata": {
  "kernelspec": {
   "display_name": "Python 3",
   "language": "python",
   "name": "python3"
  },
  "language_info": {
   "codemirror_mode": {
    "name": "ipython",
    "version": 3
   },
   "file_extension": ".py",
   "mimetype": "text/x-python",
   "name": "python",
   "nbconvert_exporter": "python",
   "pygments_lexer": "ipython3",
   "version": "3.7.4"
  }
 },
 "nbformat": 4,
 "nbformat_minor": 2
}
