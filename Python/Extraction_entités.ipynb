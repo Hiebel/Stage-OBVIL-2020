{
 "cells": [
  {
   "cell_type": "code",
   "execution_count": 1,
   "metadata": {},
   "outputs": [],
   "source": [
    "import json\n",
    "import glob\n",
    "import xml.etree.ElementTree as ET\n",
    "import spacy\n",
    "import fr_core_news_sm\n",
    "import os\n",
    "\n",
    "def ecrire_json(chemin , contenu):\n",
    "    file = open(chemin , \"w\", encoding=\"utf-8\")\n",
    "    file.write(json.dumps(contenu , indent=2, ensure_ascii=False))\n",
    "    file.close()\n",
    "\n",
    "def lire_json(chemin):\n",
    "    file = open(chemin , \"r\", encoding=\"utf-8\")\n",
    "    dic = json.load(file)\n",
    "    file.close()\n",
    "    return dic"
   ]
  },
  {
   "cell_type": "code",
   "execution_count": 3,
   "metadata": {},
   "outputs": [
    {
     "name": "stdout",
     "output_type": "stream",
     "text": [
      "TGB\\5419000.xml\n",
      "5419000.xml\n"
     ]
    }
   ],
   "source": [
    "repertoire_jsons_Spacy = \"Spacy\"\n",
    "if not os.path.exists(repertoire_jsons_Spacy):\n",
    "    os.makedirs(repertoire_jsons_Spacy)\n",
    "\n",
    "namespace = \"{http://www.tei-c.org/ns/1.0}\"\n",
    "\n",
    "nlp = fr_core_news_sm.load()\n",
    "\n",
    "for fichier in glob.glob(\"TGB/*\"):\n",
    "    nom_fichier = fichier.split(\"\\\\\")[1]\n",
    "    print(nom_fichier)\n",
    "    tree = ET.parse(fichier)\n",
    "    root = tree.getroot()\n",
    "    contenu = \"\"\n",
    "    for text in root.iter(\"{http://www.tei-c.org/ns/1.0}text\"):\n",
    "        textes = text.itertext()\n",
    "        for cpt, el in enumerate(textes):\n",
    "            if el != \"\\n\":\n",
    "                contenu += el\n",
    "                contenu += \" \"\n",
    "        #contenu = contenu.replace(\"\\n\", \" \")\n",
    "        doc = nlp(contenu)\n",
    "        dic_res = {}\n",
    "        for ent in doc.ents:\n",
    "            resultatSpacy=ent.start_char,ent.end_char,ent.label_\n",
    "            entite=list(resultatSpacy)\n",
    "            dic_res[ent.text] = entite\n",
    "        ecrire_json(\"Spacy/%s.json\" % nom_fichier, dic_res)\n",
    "    break"
   ]
  },
  {
   "cell_type": "code",
   "execution_count": null,
   "metadata": {},
   "outputs": [],
   "source": [
    "# Tests pour Stanza"
   ]
  },
  {
   "cell_type": "code",
   "execution_count": 2,
   "metadata": {},
   "outputs": [],
   "source": [
    "import stanza\n",
    "#stanza.download('fr')"
   ]
  },
  {
   "cell_type": "code",
   "execution_count": 6,
   "metadata": {},
   "outputs": [
    {
     "name": "stdout",
     "output_type": "stream",
     "text": [
      "5419000.xml\n",
      "ha\n"
     ]
    },
    {
     "ename": "ZeroDivisionError",
     "evalue": "division by zero",
     "output_type": "error",
     "traceback": [
      "\u001b[1;31m---------------------------------------------------------------------------\u001b[0m",
      "\u001b[1;31mZeroDivisionError\u001b[0m                         Traceback (most recent call last)",
      "\u001b[1;32m<ipython-input-6-9d540be3f45e>\u001b[0m in \u001b[0;36m<module>\u001b[1;34m()\u001b[0m\n\u001b[0;32m     23\u001b[0m                 \u001b[0mcontenu\u001b[0m \u001b[1;33m+=\u001b[0m \u001b[1;34m\" \"\u001b[0m\u001b[1;33m\u001b[0m\u001b[0m\n\u001b[0;32m     24\u001b[0m         \u001b[1;31m#contenu = contenu.replace(\"\\n\", \" \")\u001b[0m\u001b[1;33m\u001b[0m\u001b[1;33m\u001b[0m\u001b[0m\n\u001b[1;32m---> 25\u001b[1;33m         \u001b[1;36m1\u001b[0m\u001b[1;33m/\u001b[0m\u001b[1;36m0\u001b[0m\u001b[1;33m\u001b[0m\u001b[0m\n\u001b[0m\u001b[0;32m     26\u001b[0m         \u001b[0mdoc\u001b[0m \u001b[1;33m=\u001b[0m \u001b[0mnlp\u001b[0m\u001b[1;33m(\u001b[0m\u001b[0mcontenu\u001b[0m\u001b[1;33m)\u001b[0m\u001b[1;33m\u001b[0m\u001b[0m\n\u001b[0;32m     27\u001b[0m         \u001b[0mdic_res\u001b[0m \u001b[1;33m=\u001b[0m \u001b[1;33m{\u001b[0m\u001b[1;33m}\u001b[0m\u001b[1;33m\u001b[0m\u001b[0m\n",
      "\u001b[1;31mZeroDivisionError\u001b[0m: division by zero"
     ]
    }
   ],
   "source": [
    "repertoire_jsons_Stanza = \"Stanza\"\n",
    "if not os.path.exists(repertoire_jsons_Stanza):\n",
    "    os.makedirs(repertoire_jsons_Stanza)\n",
    "\n",
    "namespace = \"{http://www.tei-c.org/ns/1.0}\"\n",
    "\n",
    "#nlp = stanza.Pipeline(\"fr\")\n",
    "\n",
    "for fichier in glob.glob(\"TGB/*\"):\n",
    "    nom_fichier = fichier.split(\"\\\\\")[1]\n",
    "    print(nom_fichier)\n",
    "    tree = ET.parse(fichier)\n",
    "    root = tree.getroot()\n",
    "    contenu = \"\"\n",
    "    print(\"ha\")\n",
    "    for text in root.iter(\"{http://www.tei-c.org/ns/1.0}text\"):\n",
    "        textes = text.itertext()\n",
    "        for cpt, el in enumerate(textes):\n",
    "            if el != \"\\n\":\n",
    "                contenu += el\n",
    "                contenu += \" \"\n",
    "        #contenu = contenu.replace(\"\\n\", \" \")\n",
    "        1/0\n",
    "        doc = nlp(contenu)\n",
    "        dic_res = {}\n",
    "        print(len(doc.ents))\n",
    "        for ent in doc.ents:\n",
    "            resultatStanza=ent.start_char,ent.end_char,ent.type\n",
    "            entite=list(resultatStanza)\n",
    "            dic_res[ent.text] = entite\n",
    "        ecrire_json(\"Stanza/%s.json\" % nom_fichier, dic_res)\n",
    "    break"
   ]
  },
  {
   "cell_type": "code",
   "execution_count": null,
   "metadata": {},
   "outputs": [],
   "source": []
  }
 ],
 "metadata": {
  "kernelspec": {
   "display_name": "Python 3",
   "language": "python",
   "name": "python3"
  },
  "language_info": {
   "codemirror_mode": {
    "name": "ipython",
    "version": 3
   },
   "file_extension": ".py",
   "mimetype": "text/x-python",
   "name": "python",
   "nbconvert_exporter": "python",
   "pygments_lexer": "ipython3",
   "version": "3.7.0"
  }
 },
 "nbformat": 4,
 "nbformat_minor": 2
}
