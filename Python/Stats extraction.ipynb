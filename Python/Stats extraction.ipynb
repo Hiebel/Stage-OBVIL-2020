{
 "cells": [
  {
   "cell_type": "code",
   "execution_count": 4,
   "metadata": {},
   "outputs": [],
   "source": [
    "import glob\n",
    "import json\n",
    "\n",
    "def ecrire_json(chemin , contenu):\n",
    "    file = open(chemin , \"w\", encoding=\"utf-8\")\n",
    "    file.write(json.dumps(contenu , indent=2, ensure_ascii=False))\n",
    "    file.close()\n",
    "\n",
    "def lire_json(chemin):\n",
    "    file = open(chemin , \"r\", encoding=\"utf-8\")\n",
    "    dic = json.load(file)\n",
    "    file.close()\n",
    "    return dic"
   ]
  },
  {
   "cell_type": "code",
   "execution_count": 13,
   "metadata": {},
   "outputs": [
    {
     "name": "stdout",
     "output_type": "stream",
     "text": [
      "Spacy/Jsons\\5419000.xml.json\n",
      "{'MISC': 247, 'ORG': 60, 'LOC': 94, 'PER': 98}\n"
     ]
    }
   ],
   "source": [
    "for fichier in glob.glob(\"Spacy/Jsons/*\"):\n",
    "    print(fichier)\n",
    "    dic = lire_json(fichier)\n",
    "    effectifs = {}\n",
    "    for k, v in dic.items():\n",
    "        categorie = v[2]\n",
    "        effectifs.setdefault(categorie, 0)\n",
    "        effectifs[categorie] += 1\n",
    "    print(effectifs)\n",
    "    break"
   ]
  },
  {
   "cell_type": "code",
   "execution_count": 28,
   "metadata": {},
   "outputs": [
    {
     "name": "stdout",
     "output_type": "stream",
     "text": [
      "['MISC', 'ORG', 'LOC', 'PER']\n",
      "[247, 60, 94, 98]\n"
     ]
    }
   ],
   "source": [
    "cats = [k for k in effectifs]\n",
    "vals = [v for v in effectifs.values()]"
   ]
  },
  {
   "cell_type": "code",
   "execution_count": 30,
   "metadata": {},
   "outputs": [
    {
     "data": {
      "image/png": "[encoded data removed]",
      "text/plain": [
       "<Figure size 432x288 with 1 Axes>"
      ]
     },
     "metadata": {
      "needs_background": "light"
     },
     "output_type": "display_data"
    }
   ],
   "source": [
    "import matplotlib.pyplot as plt\n",
    "plt.bar(cats, vals)\n",
    "plt.xlabel(\"Catégorie\")\n",
    "plt.ylabel(\"Nombre d'entités\")\n",
    "plt.title(\"Proportion d'entités repérées par catégorie\")\n",
    "plt.show()"
   ]
  },
  {
   "cell_type": "code",
   "execution_count": null,
   "metadata": {},
   "outputs": [],
   "source": []
  }
 ],
 "metadata": {
  "kernelspec": {
   "display_name": "Python 3",
   "language": "python",
   "name": "python3"
  },
  "language_info": {
   "codemirror_mode": {
    "name": "ipython",
    "version": 3
   },
   "file_extension": ".py",
   "mimetype": "text/x-python",
   "name": "python",
   "nbconvert_exporter": "python",
   "pygments_lexer": "ipython3",
   "version": "3.7.0"
  }
 },
 "nbformat": 4,
 "nbformat_minor": 2
}
