{
 "cells": [
  {
   "cell_type": "code",
   "execution_count": 1,
   "metadata": {},
   "outputs": [],
   "source": [
    "import enchant\n",
    "import json\n",
    "import glob\n",
    "from lxml import etree\n",
    "import os\n",
    "from enchant.checker import SpellChecker"
   ]
  },
  {
   "cell_type": "code",
   "execution_count": 13,
   "metadata": {},
   "outputs": [
    {
     "name": "stdout",
     "output_type": "stream",
     "text": [
      "<enchant.checker.SpellChecker object at 0x00000228E660FE48>\n"
     ]
    }
   ],
   "source": [
    "from enchant.checker import SpellChecker\n",
    "chkr = SpellChecker(\"fr\")\n",
    "\n",
    "t = \"Bonjuur j'essaie d'etre un bon text mais je n'y arrrive d'etre pass text bonjuur d'etre.\"\n",
    "chkr.set_text(t)\n",
    "\n",
    "for err in chkr:\n",
    "    #chkr.replace_always(err.word, chkr.suggest(err.word)[0])\n",
    "    err.replace(chkr.suggest(err.word)[0])\n",
    "    #print(chkr.get_text())"
   ]
  },
  {
   "cell_type": "code",
   "execution_count": 12,
   "metadata": {},
   "outputs": [
    {
     "data": {
      "text/plain": [
       "\"Bonjour j'essaie d’être un bon test mais je n'y arrive d’être pas test bonjour d’être.\""
      ]
     },
     "execution_count": 12,
     "metadata": {},
     "output_type": "execute_result"
    }
   ],
   "source": [
    "chkr.get_text()"
   ]
  },
  {
   "cell_type": "code",
   "execution_count": 14,
   "metadata": {},
   "outputs": [
    {
     "name": "stdout",
     "output_type": "stream",
     "text": [
      "5652000\n",
      "118606\n",
      "je - Copie\n",
      "0\n"
     ]
    }
   ],
   "source": [
    "dossier_corpus = \"Corpus/test\"\n",
    "\n",
    "repertoire_correction = \"%s_correction\" % dossier_corpus\n",
    "namespace = \"{http://www.tei-c.org/ns/1.0}\"\n",
    "if not os.path.exists(repertoire_correction):\n",
    "    os.makedirs(repertoire_correction)\n",
    "    \n",
    "chkr = SpellChecker(\"fr\")\n",
    "\n",
    "for fichier in glob.glob(\"%s/*\" % dossier_corpus):\n",
    "    extension = fichier.split(\".\")[-1]\n",
    "    if extension == \"txt\" or extension == \"xml\":\n",
    "        nom_fichier = fichier.split(\"\\\\\")[1]\n",
    "        sans_extension = nom_fichier.split(\".\")[-2]\n",
    "        print(sans_extension)\n",
    "        parser = etree.XMLParser(recover=True)\n",
    "        root = etree.parse(fichier, parser)\n",
    "        contenu = \"\"\n",
    "        for text in root.iter(\"{http://www.tei-c.org/ns/1.0}text\"):\n",
    "            textes = text.itertext()\n",
    "            for cpt, el in enumerate(textes):\n",
    "                if el != \"\\n\":\n",
    "                    contenu += el\n",
    "                    contenu += \" \"\n",
    "        print(len(contenu))\n",
    "        chkr.set_text(contenu)\n",
    "        for err in chkr:\n",
    "            if len(chkr.suggest(err.word)) > 0:\n",
    "                err.replace(chkr.suggest(err.word)[0])\n",
    "        correction_contenu = chkr.get_text()\n",
    "        file = open(\"%s/%s.txt\" % (repertoire_correction, sans_extension), \"w\", encoding=\"utf-8\")\n",
    "        file.write(correction_contenu)\n",
    "        file.close()\n",
    "    #break"
   ]
  },
  {
   "cell_type": "code",
   "execution_count": null,
   "metadata": {},
   "outputs": [],
   "source": []
  }
 ],
 "metadata": {
  "kernelspec": {
   "display_name": "Python 3",
   "language": "python",
   "name": "python3"
  },
  "language_info": {
   "codemirror_mode": {
    "name": "ipython",
    "version": 3
   },
   "file_extension": ".py",
   "mimetype": "text/x-python",
   "name": "python",
   "nbconvert_exporter": "python",
   "pygments_lexer": "ipython3",
   "version": "3.7.0"
  }
 },
 "nbformat": 4,
 "nbformat_minor": 2
}
