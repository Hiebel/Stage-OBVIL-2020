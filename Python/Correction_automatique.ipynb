{
 "cells": [
  {
   "cell_type": "code",
   "execution_count": 5,
   "metadata": {},
   "outputs": [],
   "source": [
    "import enchant\n",
    "import json\n",
    "import glob\n",
    "from lxml import etree\n",
    "import os\n",
    "from enchant.checker import SpellChecker\n",
    "import csv"
   ]
  },
  {
   "cell_type": "code",
   "execution_count": 3,
   "metadata": {},
   "outputs": [],
   "source": [
    "def lire_TEI_XML(input_file):\n",
    "    namespace = \"{http://www.tei-c.org/ns/1.0}text\"\n",
    "    parser = etree.XMLParser(recover=True)\n",
    "    root = etree.parse(input_file, parser)\n",
    "    contenu = \"\"\n",
    "    for texte in root.iter(namespace):\n",
    "        textes = texte.itertext()\n",
    "        for cpt, el in enumerate(textes):\n",
    "            if el != \"\\n\":\n",
    "                contenu += el\n",
    "                contenu += \" \"\n",
    "        contenu = contenu.replace(\"\\n\", \" \")\n",
    "    return contenu"
   ]
  },
  {
   "cell_type": "code",
   "execution_count": 16,
   "metadata": {},
   "outputs": [
    {
     "name": "stdout",
     "output_type": "stream",
     "text": [
      "5431000\n",
      "5652000\n"
     ]
    }
   ],
   "source": [
    "dossier_corpus = \"Corpus/test\"\n",
    "\n",
    "repertoire_correction = \"%s_correction2\" % dossier_corpus\n",
    "namespace = \"{http://www.tei-c.org/ns/1.0}\"\n",
    "if not os.path.exists(repertoire_correction):\n",
    "    os.makedirs(repertoire_correction)\n",
    "    \n",
    "chkr = SpellChecker(\"fr\")\n",
    "\n",
    "with open(\"%s/erreurs.csv\" % repertoire_correction, \"w\", encoding=\"utf-8\", newline='') as csvfile:\n",
    "    fieldnames = [\"Erreur détectée\", \"Correction proposée\", \"Fichier\"]\n",
    "    spamwriter = csv.writer(csvfile, delimiter=\",\")\n",
    "    spamwriter.writerow(fieldnames)\n",
    "\n",
    "    for fichier in glob.glob(\"%s/*\" % dossier_corpus):\n",
    "        extension = fichier.split(\".\")[-1]\n",
    "        if extension == \"txt\" or extension == \"xml\":\n",
    "            nom_fichier = fichier.split(\"\\\\\")[1]\n",
    "            sans_extension = nom_fichier.split(\".\")[-2]\n",
    "            print(sans_extension)\n",
    "            parser = etree.XMLParser(recover=True)\n",
    "            root = etree.parse(fichier, parser)\n",
    "            if extension == \"xml\":\n",
    "                contenu = lire_TEI_XML(fichier)\n",
    "            else:\n",
    "                with open(fichier, 'r', encoding = \"utf-8\") as fin:\n",
    "                    contenu = fin.read()\n",
    "            #print(len(contenu))\n",
    "            chkr.set_text(contenu)\n",
    "            for cpt, err in enumerate(chkr):\n",
    "                ligne = []\n",
    "                ligne.append(err.word)\n",
    "                if len(chkr.suggest(err.word)) > 0:\n",
    "                    err.replace(chkr.suggest(err.word)[0])\n",
    "                    ligne.append(chkr.suggest(err.word)[0])\n",
    "                else:\n",
    "                    ligne.append(\"Pas de correction trouvée\")\n",
    "                #ligne.append(err.leading_context(50))\n",
    "                #ligne.append(err.trailing_context(50))\n",
    "                ligne.append(nom_fichier)\n",
    "                spamwriter.writerow(ligne)\n",
    "                if cpt > 10:\n",
    "                    break\n",
    "            #break\n",
    "            correction_contenu = chkr.get_text()\n",
    "            file = open(\"%s/%s.txt\" % (repertoire_correction, sans_extension), \"w\", encoding=\"utf-8\")\n",
    "            file.write(correction_contenu)\n",
    "            file.close()\n",
    "    #break"
   ]
  },
  {
   "cell_type": "code",
   "execution_count": 13,
   "metadata": {},
   "outputs": [],
   "source": [
    "import csv\n",
    "with open('eggs.csv', 'w', newline='') as csvfile:\n",
    "    spamwriter = csv.writer(csvfile, delimiter=' ',\n",
    "                            quotechar='|')\n",
    "    spamwriter.writerow(['Spam'] * 5 + ['Baked Beans'])\n",
    "    spamwriter.writerow(['Spam', 'Lovely Spam', 'Wonderful Spam'])"
   ]
  },
  {
   "cell_type": "code",
   "execution_count": null,
   "metadata": {},
   "outputs": [],
   "source": []
  }
 ],
 "metadata": {
  "kernelspec": {
   "display_name": "Python 3",
   "language": "python",
   "name": "python3"
  },
  "language_info": {
   "codemirror_mode": {
    "name": "ipython",
    "version": 3
   },
   "file_extension": ".py",
   "mimetype": "text/x-python",
   "name": "python",
   "nbconvert_exporter": "python",
   "pygments_lexer": "ipython3",
   "version": "3.7.0"
  }
 },
 "nbformat": 4,
 "nbformat_minor": 2
}
