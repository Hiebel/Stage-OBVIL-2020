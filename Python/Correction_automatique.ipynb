{
 "cells": [
  {
   "cell_type": "code",
   "execution_count": 3,
   "metadata": {},
   "outputs": [],
   "source": [
    "import enchant\n",
    "import json\n",
    "import glob\n",
    "from lxml import etree\n",
    "import os\n",
    "from enchant.checker import SpellChecker"
   ]
  },
  {
   "cell_type": "code",
   "execution_count": 1,
   "metadata": {},
   "outputs": [],
   "source": [
    "def lire_TEI_XML(input_file):\n",
    "\tnamespace = \"{http://www.tei-c.org/ns/1.0}\"\n",
    "\tparser = etree.XMLParser(recover=True)\n",
    "\troot = etree.parse(input_file, parser)\n",
    "\tcontenu = \"\"\n",
    "\tfor texte in root.iter(\"{http://www.tei-c.org/ns/1.0}text\"):\n",
    "\t\ttextes = texte.itertext()\n",
    "\t\tfor cpt, el in enumerate(textes):\n",
    "\t\t\tif el != \"\\n\":\n",
    "\t\t\t\tcontenu += el\n",
    "\t\t\t\tcontenu += \" \"\n",
    "\t\tcontenu = contenu.replace(\"\\n\", \" \")\n",
    "\treturn contenu"
   ]
  },
  {
   "cell_type": "code",
   "execution_count": 4,
   "metadata": {},
   "outputs": [
    {
     "name": "stdout",
     "output_type": "stream",
     "text": [
      "5652000\n"
     ]
    },
    {
     "ename": "ValueError",
     "evalue": "Empty tag name",
     "output_type": "error",
     "traceback": [
      "\u001b[1;31m---------------------------------------------------------------------------\u001b[0m",
      "\u001b[1;31mValueError\u001b[0m                                Traceback (most recent call last)",
      "\u001b[1;32m<ipython-input-4-f337a4cef5a2>\u001b[0m in \u001b[0;36m<module>\u001b[1;34m()\u001b[0m\n\u001b[0;32m     17\u001b[0m         \u001b[0mroot\u001b[0m \u001b[1;33m=\u001b[0m \u001b[0metree\u001b[0m\u001b[1;33m.\u001b[0m\u001b[0mparse\u001b[0m\u001b[1;33m(\u001b[0m\u001b[0mfichier\u001b[0m\u001b[1;33m,\u001b[0m \u001b[0mparser\u001b[0m\u001b[1;33m)\u001b[0m\u001b[1;33m\u001b[0m\u001b[0m\n\u001b[0;32m     18\u001b[0m         \u001b[1;32mif\u001b[0m \u001b[0mextension\u001b[0m \u001b[1;33m==\u001b[0m \u001b[1;34m\"xml\"\u001b[0m\u001b[1;33m:\u001b[0m\u001b[1;33m\u001b[0m\u001b[0m\n\u001b[1;32m---> 19\u001b[1;33m             \u001b[0mcontenu\u001b[0m \u001b[1;33m=\u001b[0m \u001b[0mlire_TEI_XML\u001b[0m\u001b[1;33m(\u001b[0m\u001b[0mfichier\u001b[0m\u001b[1;33m)\u001b[0m\u001b[1;33m\u001b[0m\u001b[0m\n\u001b[0m\u001b[0;32m     20\u001b[0m         \u001b[0mprint\u001b[0m\u001b[1;33m(\u001b[0m\u001b[0mlen\u001b[0m\u001b[1;33m(\u001b[0m\u001b[0mcontenu\u001b[0m\u001b[1;33m)\u001b[0m\u001b[1;33m)\u001b[0m\u001b[1;33m\u001b[0m\u001b[0m\n\u001b[0;32m     21\u001b[0m         \u001b[0mchkr\u001b[0m\u001b[1;33m.\u001b[0m\u001b[0mset_text\u001b[0m\u001b[1;33m(\u001b[0m\u001b[0mcontenu\u001b[0m\u001b[1;33m)\u001b[0m\u001b[1;33m\u001b[0m\u001b[0m\n",
      "\u001b[1;32m<ipython-input-1-37da9dbf538b>\u001b[0m in \u001b[0;36mlire_TEI_XML\u001b[1;34m(input_file)\u001b[0m\n\u001b[0;32m      4\u001b[0m         \u001b[0mroot\u001b[0m \u001b[1;33m=\u001b[0m \u001b[0metree\u001b[0m\u001b[1;33m.\u001b[0m\u001b[0mparse\u001b[0m\u001b[1;33m(\u001b[0m\u001b[0minput_file\u001b[0m\u001b[1;33m,\u001b[0m \u001b[0mparser\u001b[0m\u001b[1;33m)\u001b[0m\u001b[1;33m\u001b[0m\u001b[0m\n\u001b[0;32m      5\u001b[0m         \u001b[0mcontenu\u001b[0m \u001b[1;33m=\u001b[0m \u001b[1;34m\"\"\u001b[0m\u001b[1;33m\u001b[0m\u001b[0m\n\u001b[1;32m----> 6\u001b[1;33m         \u001b[1;32mfor\u001b[0m \u001b[0mtexte\u001b[0m \u001b[1;32min\u001b[0m \u001b[0mroot\u001b[0m\u001b[1;33m.\u001b[0m\u001b[0miter\u001b[0m\u001b[1;33m(\u001b[0m\u001b[1;34m\"{http://www.tei-c.org/ns/1.0}\"\u001b[0m\u001b[1;33m)\u001b[0m\u001b[1;33m:\u001b[0m\u001b[1;33m\u001b[0m\u001b[0m\n\u001b[0m\u001b[0;32m      7\u001b[0m                 \u001b[0mtextes\u001b[0m \u001b[1;33m=\u001b[0m \u001b[0mtexte\u001b[0m\u001b[1;33m.\u001b[0m\u001b[0mitertext\u001b[0m\u001b[1;33m(\u001b[0m\u001b[1;33m)\u001b[0m\u001b[1;33m\u001b[0m\u001b[0m\n\u001b[0;32m      8\u001b[0m                 \u001b[1;32mfor\u001b[0m \u001b[0mcpt\u001b[0m\u001b[1;33m,\u001b[0m \u001b[0mel\u001b[0m \u001b[1;32min\u001b[0m \u001b[0menumerate\u001b[0m\u001b[1;33m(\u001b[0m\u001b[0mtextes\u001b[0m\u001b[1;33m)\u001b[0m\u001b[1;33m:\u001b[0m\u001b[1;33m\u001b[0m\u001b[0m\n",
      "\u001b[1;32msrc/lxml/etree.pyx\u001b[0m in \u001b[0;36mlxml.etree._ElementTree.iter\u001b[1;34m()\u001b[0m\n",
      "\u001b[1;32msrc/lxml/etree.pyx\u001b[0m in \u001b[0;36mlxml.etree._Element.iter\u001b[1;34m()\u001b[0m\n",
      "\u001b[1;32msrc/lxml/etree.pyx\u001b[0m in \u001b[0;36mlxml.etree.ElementDepthFirstIterator.__cinit__\u001b[1;34m()\u001b[0m\n",
      "\u001b[1;32msrc/lxml/etree.pyx\u001b[0m in \u001b[0;36mlxml.etree._MultiTagMatcher.__cinit__\u001b[1;34m()\u001b[0m\n",
      "\u001b[1;32msrc/lxml/etree.pyx\u001b[0m in \u001b[0;36mlxml.etree._MultiTagMatcher.initTagMatch\u001b[1;34m()\u001b[0m\n",
      "\u001b[1;32msrc/lxml/etree.pyx\u001b[0m in \u001b[0;36mlxml.etree._MultiTagMatcher._storeTags\u001b[1;34m()\u001b[0m\n",
      "\u001b[1;32msrc/lxml/etree.pyx\u001b[0m in \u001b[0;36mlxml.etree._MultiTagMatcher._storeTags\u001b[1;34m()\u001b[0m\n",
      "\u001b[1;32msrc/lxml/apihelpers.pxi\u001b[0m in \u001b[0;36mlxml.etree._getNsTag\u001b[1;34m()\u001b[0m\n",
      "\u001b[1;32msrc/lxml/apihelpers.pxi\u001b[0m in \u001b[0;36mlxml.etree.__getNsTag\u001b[1;34m()\u001b[0m\n",
      "\u001b[1;31mValueError\u001b[0m: Empty tag name"
     ]
    }
   ],
   "source": [
    "dossier_corpus = \"Corpus/test\"\n",
    "\n",
    "repertoire_correction = \"%s_correction\" % dossier_corpus\n",
    "namespace = \"{http://www.tei-c.org/ns/1.0}\"\n",
    "if not os.path.exists(repertoire_correction):\n",
    "    os.makedirs(repertoire_correction)\n",
    "    \n",
    "chkr = SpellChecker(\"fr\")\n",
    "\n",
    "for fichier in glob.glob(\"%s/*\" % dossier_corpus):\n",
    "    extension = fichier.split(\".\")[-1]\n",
    "    if extension == \"txt\" or extension == \"xml\":\n",
    "        nom_fichier = fichier.split(\"\\\\\")[1]\n",
    "        sans_extension = nom_fichier.split(\".\")[-2]\n",
    "        print(sans_extension)\n",
    "        parser = etree.XMLParser(recover=True)\n",
    "        root = etree.parse(fichier, parser)\n",
    "        if extension == \"xml\":\n",
    "            contenu = lire_TEI_XML(fichier)\n",
    "        print(len(contenu))\n",
    "        chkr.set_text(contenu)\n",
    "        for err in chkr:\n",
    "            if len(chkr.suggest(err.word)) > 0:\n",
    "                err.replace(chkr.suggest(err.word)[0])\n",
    "        correction_contenu = chkr.get_text()\n",
    "        file = open(\"%s/%s.txt\" % (repertoire_correction, sans_extension), \"w\", encoding=\"utf-8\")\n",
    "        file.write(correction_contenu)\n",
    "        file.close()\n",
    "    #break"
   ]
  },
  {
   "cell_type": "code",
   "execution_count": null,
   "metadata": {},
   "outputs": [],
   "source": []
  }
 ],
 "metadata": {
  "kernelspec": {
   "display_name": "Python 3",
   "language": "python",
   "name": "python3"
  },
  "language_info": {
   "codemirror_mode": {
    "name": "ipython",
    "version": 3
   },
   "file_extension": ".py",
   "mimetype": "text/x-python",
   "name": "python",
   "nbconvert_exporter": "python",
   "pygments_lexer": "ipython3",
   "version": "3.7.0"
  }
 },
 "nbformat": 4,
 "nbformat_minor": 2
}
