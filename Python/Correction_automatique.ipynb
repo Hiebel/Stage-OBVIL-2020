{
 "cells": [
  {
   "cell_type": "code",
   "execution_count": 1,
   "metadata": {},
   "outputs": [
    {
     "ename": "ModuleNotFoundError",
     "evalue": "No module named 'enchant'",
     "output_type": "error",
     "traceback": [
      "\u001b[1;31m---------------------------------------------------------------------------\u001b[0m",
      "\u001b[1;31mModuleNotFoundError\u001b[0m                       Traceback (most recent call last)",
      "\u001b[1;32m<ipython-input-1-8f838b5b36ef>\u001b[0m in \u001b[0;36m<module>\u001b[1;34m\u001b[0m\n\u001b[1;32m----> 1\u001b[1;33m \u001b[1;32mimport\u001b[0m \u001b[0menchant\u001b[0m\u001b[1;33m\u001b[0m\u001b[1;33m\u001b[0m\u001b[0m\n\u001b[0m\u001b[0;32m      2\u001b[0m \u001b[1;32mimport\u001b[0m \u001b[0mjson\u001b[0m\u001b[1;33m\u001b[0m\u001b[1;33m\u001b[0m\u001b[0m\n\u001b[0;32m      3\u001b[0m \u001b[1;32mimport\u001b[0m \u001b[0mglob\u001b[0m\u001b[1;33m\u001b[0m\u001b[1;33m\u001b[0m\u001b[0m\n\u001b[0;32m      4\u001b[0m \u001b[1;32mfrom\u001b[0m \u001b[0mlxml\u001b[0m \u001b[1;32mimport\u001b[0m \u001b[0metree\u001b[0m\u001b[1;33m\u001b[0m\u001b[1;33m\u001b[0m\u001b[0m\n\u001b[0;32m      5\u001b[0m \u001b[1;32mimport\u001b[0m \u001b[0mos\u001b[0m\u001b[1;33m\u001b[0m\u001b[1;33m\u001b[0m\u001b[0m\n",
      "\u001b[1;31mModuleNotFoundError\u001b[0m: No module named 'enchant'"
     ]
    }
   ],
   "source": [
    "import enchant\n",
    "import json\n",
    "import glob\n",
    "from lxml import etree\n",
    "import os\n",
    "from enchant.checker import SpellChecker\n",
    "import csv"
   ]
  },
  {
   "cell_type": "code",
   "execution_count": 3,
   "metadata": {},
   "outputs": [],
   "source": [
    "def lire_TEI_XML(input_file):\n",
    "    namespace = \"{http://www.tei-c.org/ns/1.0}text\"\n",
    "    parser = etree.XMLParser(recover=True)\n",
    "    root = etree.parse(input_file, parser)\n",
    "    contenu = \"\"\n",
    "    for texte in root.iter(namespace):\n",
    "        textes = texte.itertext()\n",
    "        for cpt, el in enumerate(textes):\n",
    "            if el != \"\\n\":\n",
    "                contenu += el\n",
    "                contenu += \" \"\n",
    "        contenu = contenu.replace(\"\\n\", \" \")\n",
    "    return contenu"
   ]
  },
  {
   "cell_type": "code",
   "execution_count": 4,
   "metadata": {},
   "outputs": [
    {
     "name": "stdout",
     "output_type": "stream",
     "text": [
      "5431000\n",
      "      La république Paris Type. A PARENT, rue Monsieur le-Prince 31 La républiq\n"
     ]
    },
    {
     "ename": "ZeroDivisionError",
     "evalue": "division by zero",
     "output_type": "error",
     "traceback": [
      "\u001b[1;31m---------------------------------------------------------------------------\u001b[0m",
      "\u001b[1;31mZeroDivisionError\u001b[0m                         Traceback (most recent call last)",
      "\u001b[1;32m<ipython-input-4-b1b5cf6e14e0>\u001b[0m in \u001b[0;36m<module>\u001b[1;34m()\u001b[0m\n\u001b[0;32m     40\u001b[0m                 \u001b[0mcontexte\u001b[0m \u001b[1;33m=\u001b[0m \u001b[0merr\u001b[0m\u001b[1;33m.\u001b[0m\u001b[0mleading_context\u001b[0m\u001b[1;33m(\u001b[0m\u001b[1;36m50\u001b[0m\u001b[1;33m)\u001b[0m \u001b[1;33m+\u001b[0m \u001b[0merr\u001b[0m\u001b[1;33m.\u001b[0m\u001b[0mword\u001b[0m \u001b[1;33m+\u001b[0m \u001b[0merr\u001b[0m\u001b[1;33m.\u001b[0m\u001b[0mtrailing_context\u001b[0m\u001b[1;33m(\u001b[0m\u001b[1;36m50\u001b[0m\u001b[1;33m)\u001b[0m\u001b[1;33m\u001b[0m\u001b[0m\n\u001b[0;32m     41\u001b[0m                 \u001b[0mprint\u001b[0m\u001b[1;33m(\u001b[0m\u001b[0mcontexte\u001b[0m\u001b[1;33m)\u001b[0m\u001b[1;33m\u001b[0m\u001b[0m\n\u001b[1;32m---> 42\u001b[1;33m                 \u001b[1;36m1\u001b[0m\u001b[1;33m/\u001b[0m\u001b[1;36m0\u001b[0m\u001b[1;33m\u001b[0m\u001b[0m\n\u001b[0m\u001b[0;32m     43\u001b[0m                 \u001b[0mligne\u001b[0m\u001b[1;33m.\u001b[0m\u001b[0mappend\u001b[0m\u001b[1;33m(\u001b[0m\u001b[0mnom_fichier\u001b[0m\u001b[1;33m)\u001b[0m\u001b[1;33m\u001b[0m\u001b[0m\n\u001b[0;32m     44\u001b[0m                 \u001b[0mspamwriter\u001b[0m\u001b[1;33m.\u001b[0m\u001b[0mwriterow\u001b[0m\u001b[1;33m(\u001b[0m\u001b[0mligne\u001b[0m\u001b[1;33m)\u001b[0m\u001b[1;33m\u001b[0m\u001b[0m\n",
      "\u001b[1;31mZeroDivisionError\u001b[0m: division by zero"
     ]
    }
   ],
   "source": [
    "dossier_corpus = \"Corpus/test\"\n",
    "\n",
    "repertoire_correction = \"%s_correction2\" % dossier_corpus\n",
    "namespace = \"{http://www.tei-c.org/ns/1.0}\"\n",
    "if not os.path.exists(repertoire_correction):\n",
    "    os.makedirs(repertoire_correction)\n",
    "    \n",
    "chkr = SpellChecker(\"fr\")\n",
    "\n",
    "with open(\"%s/erreurs.csv\" % repertoire_correction, \"w\", encoding=\"utf-8\", newline='') as csvfile:\n",
    "    fieldnames = [\"Erreur détectée\", \"Correction proposée\", \"Fichier\"]\n",
    "    spamwriter = csv.writer(csvfile, delimiter=\",\")\n",
    "    spamwriter.writerow(fieldnames)\n",
    "\n",
    "    for fichier in glob.glob(\"%s/*\" % dossier_corpus):\n",
    "        extension = fichier.split(\".\")[-1]\n",
    "        if extension == \"txt\" or extension == \"xml\":\n",
    "            nom_fichier = fichier.split(\"\\\\\")[1]\n",
    "            sans_extension = nom_fichier.split(\".\")[-2]\n",
    "            print(sans_extension)\n",
    "            parser = etree.XMLParser(recover=True)\n",
    "            root = etree.parse(fichier, parser)\n",
    "            if extension == \"xml\":\n",
    "                contenu = lire_TEI_XML(fichier)\n",
    "            else:\n",
    "                with open(fichier, 'r', encoding = \"utf-8\") as fin:\n",
    "                    contenu = fin.read()\n",
    "            #print(len(contenu))\n",
    "            chkr.set_text(contenu)\n",
    "            for cpt, err in enumerate(chkr):\n",
    "                ligne = []\n",
    "                ligne.append(err.word)\n",
    "                if len(chkr.suggest(err.word)) > 0:\n",
    "                    err.replace(chkr.suggest(err.word)[0])\n",
    "                    ligne.append(chkr.suggest(err.word)[0])\n",
    "                else:\n",
    "                    ligne.append(\"Pas de correction trouvée\")\n",
    "                #ligne.append(err.leading_context(50))\n",
    "                #ligne.append(err.trailing_context(50))\n",
    "                contexte = err.leading_context(50) + err.word + err.trailing_context(50)\n",
    "                print(contexte)\n",
    "                1/0\n",
    "                ligne.append(nom_fichier)\n",
    "                spamwriter.writerow(ligne)\n",
    "                if cpt > 10:\n",
    "                    break\n",
    "            #break\n",
    "            correction_contenu = chkr.get_text()\n",
    "            file = open(\"%s/%s.txt\" % (repertoire_correction, sans_extension), \"w\", encoding=\"utf-8\")\n",
    "            file.write(correction_contenu)\n",
    "            file.close()\n",
    "    #break"
   ]
  },
  {
   "cell_type": "code",
   "execution_count": 13,
   "metadata": {},
   "outputs": [],
   "source": [
    "import csv\n",
    "with open('eggs.csv', 'w', newline='') as csvfile:\n",
    "    spamwriter = csv.writer(csvfile, delimiter=' ',\n",
    "                            quotechar='|')\n",
    "    spamwriter.writerow(['Spam'] * 5 + ['Baked Beans'])\n",
    "    spamwriter.writerow(['Spam', 'Lovely Spam', 'Wonderful Spam'])"
   ]
  },
  {
   "cell_type": "code",
   "execution_count": null,
   "metadata": {},
   "outputs": [],
   "source": []
  }
 ],
 "metadata": {
  "kernelspec": {
   "display_name": "Python 3",
   "language": "python",
   "name": "python3"
  },
  "language_info": {
   "codemirror_mode": {
    "name": "ipython",
    "version": 3
   },
   "file_extension": ".py",
   "mimetype": "text/x-python",
   "name": "python",
   "nbconvert_exporter": "python",
   "pygments_lexer": "ipython3",
   "version": "3.7.4"
  }
 },
 "nbformat": 4,
 "nbformat_minor": 2
}
