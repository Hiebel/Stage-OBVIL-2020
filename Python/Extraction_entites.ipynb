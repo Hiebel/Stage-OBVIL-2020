{
 "cells": [
  {
   "cell_type": "code",
   "execution_count": 3,
   "metadata": {},
   "outputs": [],
   "source": [
    "import json\n",
    "import glob\n",
    "import xml.etree.ElementTree as ET\n",
    "import spacy\n",
    "import fr_core_news_sm\n",
    "import os\n",
    "\n",
    "def ecrire_json(chemin , contenu):\n",
    "    file = open(chemin , \"w\", encoding=\"utf-8\")\n",
    "    file.write(json.dumps(contenu , indent=2, ensure_ascii=False))\n",
    "    file.close()\n",
    "\n",
    "def lire_json(chemin):\n",
    "    file = open(chemin , \"r\", encoding=\"utf-8\")\n",
    "    dic = json.load(file)\n",
    "    file.close()\n",
    "    return dic"
   ]
  },
  {
   "cell_type": "code",
   "execution_count": 2,
   "metadata": {},
   "outputs": [],
   "source": [
    "repertoire_Spacy = \"Spacy2\"\n",
    "if not os.path.exists(repertoire_Spacy):\n",
    "    os.makedirs(repertoire_Spacy)"
   ]
  },
  {
   "cell_type": "code",
   "execution_count": 7,
   "metadata": {},
   "outputs": [
    {
     "name": "stdout",
     "output_type": "stream",
     "text": [
      "5419000.xml\n"
     ]
    }
   ],
   "source": [
    "# format json\n",
    "\n",
    "repertoire_jsons_Spacy = \"Spacy2/Jsons\"\n",
    "namespace = \"{http://www.tei-c.org/ns/1.0}\"\n",
    "if not os.path.exists(repertoire_jsons_Spacy):\n",
    "    os.makedirs(repertoire_jsons_Spacy)\n",
    "\n",
    "nlp = fr_core_news_sm.load()\n",
    "\n",
    "for fichier in glob.glob(\"TGB/*\"):\n",
    "    nom_fichier = fichier.split(\"\\\\\")[1]\n",
    "    print(nom_fichier)\n",
    "    tree = ET.parse(fichier)\n",
    "    root = tree.getroot()\n",
    "    contenu = \"\"\n",
    "    for text in root.iter(\"{http://www.tei-c.org/ns/1.0}text\"):\n",
    "        textes = text.itertext()\n",
    "        for cpt, el in enumerate(textes):\n",
    "            if el != \"\\n\":\n",
    "                contenu += el\n",
    "                contenu += \" \"\n",
    "        #contenu = contenu.replace(\"\\n\", \" \")\n",
    "        doc = nlp(contenu)\n",
    "        dic_res = {}\n",
    "        for ent in doc.ents:\n",
    "            resultatSpacy=ent.start_char,ent.end_char,ent.label_\n",
    "            entite=list(resultatSpacy)\n",
    "            dic_res[ent.text] = entite\n",
    "        ecrire_json(\"%s/%s.json\" % (repertoire_jsons_Spacy, nom_fichier), dic_res)\n",
    "    break"
   ]
  },
  {
   "cell_type": "code",
   "execution_count": 25,
   "metadata": {},
   "outputs": [
    {
     "name": "stdout",
     "output_type": "stream",
     "text": [
      "5419000.xml\n",
      "Tag, Entité, Indice_Début, Indice_Fin, ContexteMISC, DE L’EMPIRE, 25, 36,       Livres classiques  DE L’EMPIRE .  De la chine. Observat\n",
      "\n"
     ]
    },
    {
     "ename": "ZeroDivisionError",
     "evalue": "division by zero",
     "output_type": "error",
     "traceback": [
      "\u001b[1;31m---------------------------------------------------------------------------\u001b[0m",
      "\u001b[1;31mZeroDivisionError\u001b[0m                         Traceback (most recent call last)",
      "\u001b[1;32m<ipython-input-25-8f1b2063f792>\u001b[0m in \u001b[0;36m<module>\u001b[1;34m()\u001b[0m\n\u001b[0;32m     32\u001b[0m             \u001b[0mcsv\u001b[0m \u001b[1;33m+=\u001b[0m \u001b[0mligne\u001b[0m \u001b[1;33m+\u001b[0m \u001b[1;34m\"\\n\"\u001b[0m\u001b[1;33m\u001b[0m\u001b[0m\n\u001b[0;32m     33\u001b[0m             \u001b[0mprint\u001b[0m\u001b[1;33m(\u001b[0m\u001b[0mcsv\u001b[0m\u001b[1;33m)\u001b[0m\u001b[1;33m\u001b[0m\u001b[0m\n\u001b[1;32m---> 34\u001b[1;33m             \u001b[1;36m1\u001b[0m\u001b[1;33m/\u001b[0m\u001b[1;36m0\u001b[0m\u001b[1;33m\u001b[0m\u001b[0m\n\u001b[0m\u001b[0;32m     35\u001b[0m         \u001b[0mfile\u001b[0m \u001b[1;33m=\u001b[0m \u001b[0mopen\u001b[0m\u001b[1;33m(\u001b[0m\u001b[1;34m\"%s/%s.csv\"\u001b[0m \u001b[1;33m%\u001b[0m \u001b[1;33m(\u001b[0m\u001b[0mrepertoire_CSV_Spacy\u001b[0m\u001b[1;33m,\u001b[0m \u001b[0mnom_fichier\u001b[0m\u001b[1;33m)\u001b[0m\u001b[1;33m,\u001b[0m \u001b[1;34m\"w\"\u001b[0m\u001b[1;33m,\u001b[0m \u001b[0mencoding\u001b[0m\u001b[1;33m=\u001b[0m\u001b[1;34m\"utf-8\"\u001b[0m\u001b[1;33m)\u001b[0m\u001b[1;33m\u001b[0m\u001b[0m\n\u001b[0;32m     36\u001b[0m         \u001b[0mfile\u001b[0m\u001b[1;33m.\u001b[0m\u001b[0mwrite\u001b[0m\u001b[1;33m(\u001b[0m\u001b[0mcsv\u001b[0m\u001b[1;33m)\u001b[0m\u001b[1;33m\u001b[0m\u001b[0m\n",
      "\u001b[1;31mZeroDivisionError\u001b[0m: division by zero"
     ]
    }
   ],
   "source": [
    "# format csv\n",
    "repertoire_CSV_Spacy = \"Spacy2/CSV\"\n",
    "if not os.path.exists(repertoire_CSV_Spacy):\n",
    "    os.makedirs(repertoire_CSV_Spacy)\n",
    "    \n",
    "nlp = fr_core_news_sm.load()\n",
    "\n",
    "for fichier in glob.glob(\"TGB/*\"):\n",
    "    nom_fichier = fichier.split(\"\\\\\")[1]\n",
    "    print(nom_fichier)\n",
    "    tree = ET.parse(fichier)\n",
    "    root = tree.getroot()\n",
    "    contenu = \"\"\n",
    "    for text in root.iter(\"{http://www.tei-c.org/ns/1.0}text\"):\n",
    "        textes = text.itertext()\n",
    "        for cpt, el in enumerate(textes):\n",
    "            if el != \"\\n\":\n",
    "                contenu += el\n",
    "                contenu += \" \"\n",
    "        contenu = contenu.replace(\"\\n\", \" \")\n",
    "        doc = nlp(contenu)\n",
    "        #dic_res = {}\n",
    "        csv = \"Tag, Entité, Indice_Début, Indice_Fin, Contexte\\n\"\n",
    "        for ent in doc.ents:\n",
    "            resultatSpacy=ent.label_, ent.text, ent.start_char, ent.end_char\n",
    "            ligne = \"\"\n",
    "            for el in resultatSpacy:\n",
    "                ligne += \"%s, \" % el\n",
    "            #ligne = ligne.replace(\"\\n\", \"\")\n",
    "            contexte = contenu[ent.start_char-25:ent.end_char+25]\n",
    "            contexte = contexte.replace(\"\\n\", \" \")\n",
    "            ligne += contexte\n",
    "            csv += ligne + \"\\n\"\n",
    "            print(csv)\n",
    "            1/0\n",
    "        file = open(\"%s/%s.csv\" % (repertoire_CSV_Spacy, nom_fichier), \"w\", encoding=\"utf-8\")\n",
    "        file.write(csv)\n",
    "        file.close()\n",
    "    break"
   ]
  },
  {
   "cell_type": "code",
   "execution_count": null,
   "metadata": {},
   "outputs": [],
   "source": []
  },
  {
   "cell_type": "code",
   "execution_count": null,
   "metadata": {},
   "outputs": [],
   "source": [
    "# Tests pour Stanza"
   ]
  },
  {
   "cell_type": "code",
   "execution_count": 2,
   "metadata": {},
   "outputs": [],
   "source": [
    "import stanza\n",
    "#stanza.download('fr')"
   ]
  },
  {
   "cell_type": "code",
   "execution_count": 6,
   "metadata": {},
   "outputs": [
    {
     "name": "stdout",
     "output_type": "stream",
     "text": [
      "5419000.xml\n",
      "ha\n"
     ]
    },
    {
     "ename": "ZeroDivisionError",
     "evalue": "division by zero",
     "output_type": "error",
     "traceback": [
      "\u001b[1;31m---------------------------------------------------------------------------\u001b[0m",
      "\u001b[1;31mZeroDivisionError\u001b[0m                         Traceback (most recent call last)",
      "\u001b[1;32m<ipython-input-6-9d540be3f45e>\u001b[0m in \u001b[0;36m<module>\u001b[1;34m()\u001b[0m\n\u001b[0;32m     23\u001b[0m                 \u001b[0mcontenu\u001b[0m \u001b[1;33m+=\u001b[0m \u001b[1;34m\" \"\u001b[0m\u001b[1;33m\u001b[0m\u001b[0m\n\u001b[0;32m     24\u001b[0m         \u001b[1;31m#contenu = contenu.replace(\"\\n\", \" \")\u001b[0m\u001b[1;33m\u001b[0m\u001b[1;33m\u001b[0m\u001b[0m\n\u001b[1;32m---> 25\u001b[1;33m         \u001b[1;36m1\u001b[0m\u001b[1;33m/\u001b[0m\u001b[1;36m0\u001b[0m\u001b[1;33m\u001b[0m\u001b[0m\n\u001b[0m\u001b[0;32m     26\u001b[0m         \u001b[0mdoc\u001b[0m \u001b[1;33m=\u001b[0m \u001b[0mnlp\u001b[0m\u001b[1;33m(\u001b[0m\u001b[0mcontenu\u001b[0m\u001b[1;33m)\u001b[0m\u001b[1;33m\u001b[0m\u001b[0m\n\u001b[0;32m     27\u001b[0m         \u001b[0mdic_res\u001b[0m \u001b[1;33m=\u001b[0m \u001b[1;33m{\u001b[0m\u001b[1;33m}\u001b[0m\u001b[1;33m\u001b[0m\u001b[0m\n",
      "\u001b[1;31mZeroDivisionError\u001b[0m: division by zero"
     ]
    }
   ],
   "source": [
    "repertoire_jsons_Stanza = \"Stanza\"\n",
    "if not os.path.exists(repertoire_jsons_Stanza):\n",
    "    os.makedirs(repertoire_jsons_Stanza)\n",
    "\n",
    "namespace = \"{http://www.tei-c.org/ns/1.0}\"\n",
    "\n",
    "#nlp = stanza.Pipeline(\"fr\")\n",
    "\n",
    "for fichier in glob.glob(\"TGB/*\"):\n",
    "    nom_fichier = fichier.split(\"\\\\\")[1]\n",
    "    print(nom_fichier)\n",
    "    tree = ET.parse(fichier)\n",
    "    root = tree.getroot()\n",
    "    contenu = \"\"\n",
    "    for text in root.iter(\"{http://www.tei-c.org/ns/1.0}text\"):\n",
    "        textes = text.itertext()\n",
    "        for cpt, el in enumerate(textes):\n",
    "            if el != \"\\n\":\n",
    "                contenu += el\n",
    "                contenu += \" \"\n",
    "        #contenu = contenu.replace(\"\\n\", \" \")\n",
    "        1/0\n",
    "        doc = nlp(contenu)\n",
    "        dic_res = {}\n",
    "        print(len(doc.ents))\n",
    "        for ent in doc.ents:\n",
    "            resultatStanza=ent.start_char,ent.end_char,ent.type\n",
    "            entite=list(resultatStanza)\n",
    "            dic_res[ent.text] = entite\n",
    "        ecrire_json(\"Stanza/%s.json\" % nom_fichier, dic_res)\n",
    "    break"
   ]
  },
  {
   "cell_type": "code",
   "execution_count": 21,
   "metadata": {},
   "outputs": [
    {
     "name": "stdout",
     "output_type": "stream",
     "text": [
      "test\\5431000.xml\n",
      "test\\eh\n",
      "test\\je - Cop.json\n",
      "test\\je - Copie.txt\n",
      "test\\je.txt\n"
     ]
    }
   ],
   "source": [
    "dic = []\n",
    "\n",
    "for input_file in glob.iglob(r\"test/*\"):\n",
    "    print(input_file)"
   ]
  },
  {
   "cell_type": "code",
   "execution_count": null,
   "metadata": {},
   "outputs": [],
   "source": []
  }
 ],
 "metadata": {
  "kernelspec": {
   "display_name": "Python 3",
   "language": "python",
   "name": "python3"
  },
  "language_info": {
   "codemirror_mode": {
    "name": "ipython",
    "version": 3
   },
   "file_extension": ".py",
   "mimetype": "text/x-python",
   "name": "python",
   "nbconvert_exporter": "python",
   "pygments_lexer": "ipython3",
   "version": "3.7.0"
  }
 },
 "nbformat": 4,
 "nbformat_minor": 2
}
