{
 "cells": [
  {
   "cell_type": "code",
   "execution_count": 1,
   "metadata": {},
   "outputs": [],
   "source": [
    "# parsing XML annotations manuelles"
   ]
  },
  {
   "cell_type": "code",
   "execution_count": 1,
   "metadata": {},
   "outputs": [],
   "source": [
    "from lxml import etree\n",
    "\n",
    "def recup_annotations(fichier):\n",
    "    annotations = []\n",
    "    parser = etree.XMLParser(recover=True)\n",
    "    root = etree.parse(fichier, parser)\n",
    "    balise_EN = \"de.tudarmstadt.ukp.dkpro.core.api.ner.type.NamedEntity\"\n",
    "    \n",
    "    for el in root.iter(balise_EN):\n",
    "        annotations.append((int(el.attrib[\"begin\"]), int(el.attrib[\"end\"]), el.attrib[\"value\"]))\n",
    "        \n",
    "    return annotations"
   ]
  },
  {
   "cell_type": "code",
   "execution_count": 5,
   "metadata": {},
   "outputs": [
    {
     "name": "stdout",
     "output_type": "stream",
     "text": [
      "44\n",
      "[(130, 158, 'ORG'), (257, 270, 'PER'), (275, 288, 'PER'), (349, 388, 'PER'), (690, 723, 'ORG'), (736, 741, 'LOC'), (947, 980, 'ORG'), (1422, 1455, 'ORG'), (1951, 1984, 'ORG'), (2614, 2637, 'ORG'), (3135, 3158, 'ORG'), (3589, 3612, 'ORG'), (3828, 3836, 'ORG'), (5069, 5102, 'ORG'), (6426, 6459, 'ORG'), (7398, 7405, 'ORG'), (7512, 7532, 'PER'), (9279, 9302, 'ORG'), (9422, 9430, 'ORG'), (10046, 10054, 'LOC'), (10878, 10886, 'LOC'), (11006, 11012, 'LOC'), (11014, 11023, 'LOC'), (11025, 11035, 'LOC'), (11037, 11044, 'LOC'), (11046, 11052, 'LOC'), (11054, 11079, 'LOC'), (11081, 11088, 'LOC'), (11090, 11096, 'LOC'), (11098, 11104, 'LOC'), (11106, 11111, 'LOC'), (11337, 11343, 'LOC'), (11387, 11393, 'LOC'), (11470, 11476, 'LOC'), (11634, 11643, 'LOC'), (11649, 11659, 'LOC'), (11873, 11879, 'LOC'), (11980, 11989, 'LOC'), (12295, 12305, 'LOC'), (12953, 12959, 'LOC'), (13626, 13632, 'LOC'), (13882, 13888, 'LOC'), (14617, 14625, 'LOC'), (14682, 14688, 'LOC')]\n"
     ]
    }
   ],
   "source": [
    "fichier = \"5408048.xml.xml\"\n",
    "\n",
    "print(len(recup_annotations(fichier)))\n",
    "print(recup_annotations(fichier))"
   ]
  },
  {
   "cell_type": "code",
   "execution_count": null,
   "metadata": {},
   "outputs": [],
   "source": []
  }
 ],
 "metadata": {
  "kernelspec": {
   "display_name": "Python 3",
   "language": "python",
   "name": "python3"
  },
  "language_info": {
   "codemirror_mode": {
    "name": "ipython",
    "version": 3
   },
   "file_extension": ".py",
   "mimetype": "text/x-python",
   "name": "python",
   "nbconvert_exporter": "python",
   "pygments_lexer": "ipython3",
   "version": "3.7.0"
  }
 },
 "nbformat": 4,
 "nbformat_minor": 2
}
