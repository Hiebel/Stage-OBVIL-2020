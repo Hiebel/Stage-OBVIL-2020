{
 "cells": [
  {
   "cell_type": "code",
   "execution_count": 1,
   "metadata": {},
   "outputs": [],
   "source": [
    "# parsing XML annotations manuelles"
   ]
  },
  {
   "cell_type": "code",
   "execution_count": 59,
   "metadata": {},
   "outputs": [],
   "source": [
    "from lxml import etree\n",
    "\n",
    "# récupérer les annotations manuelles sur un fichier au format \"Inline XML\"\n",
    "def recup_annotations_manuelles(fichier):\n",
    "    annotations = []\n",
    "    parser = etree.XMLParser(recover=True)\n",
    "    root = etree.parse(fichier, parser)\n",
    "    balise_EN = \"de.tudarmstadt.ukp.dkpro.core.api.ner.type.NamedEntity\"\n",
    "    \n",
    "    for el in root.iter(balise_EN):\n",
    "        annotations.append((int(el.attrib[\"begin\"]), int(el.attrib[\"end\"]), el.attrib[\"value\"]))\n",
    "    return annotations\n",
    "\n",
    "# récupérer le texte d'un fichier \".txt\"\n",
    "def recup_texte(fichier):\n",
    "    with open(fichier, \"r\", encoding=\"utf-8\") as f:\n",
    "        texte = f.read()\n",
    "    return texte"
   ]
  },
  {
   "cell_type": "code",
   "execution_count": 64,
   "metadata": {},
   "outputs": [
    {
     "name": "stdout",
     "output_type": "stream",
     "text": [
      "133\n",
      "95439\n"
     ]
    }
   ],
   "source": [
    "chemin_fichier = \"Evaluation/5408048.xml\"\n",
    "fichier_text = \"%s.txt\" % chemin_fichier\n",
    "fichier_xml = \"%s.xml\" % chemin_fichier\n",
    "\n",
    "print(len(recup_annotations(fichier_xml)))\n",
    "print(len(recup_texte(fichier_text)))\n",
    "#print(recup_annotations(fichier))"
   ]
  },
  {
   "cell_type": "code",
   "execution_count": 83,
   "metadata": {},
   "outputs": [
    {
     "name": "stdout",
     "output_type": "stream",
     "text": [
      "PER 57 80\n",
      "PER 177 197\n",
      "PER 266 275\n",
      "PER 1203 1207\n",
      "PER 2095 2103\n",
      "PER 2542 2550\n",
      "PER 2554 2559\n",
      "PER 8621 8629\n",
      "PER 11871 11880\n",
      "PER 27298 27309\n",
      "PER 27370 27375\n",
      "PER 28914 28921\n",
      "PER 30803 30811\n",
      "PER 31194 31202\n",
      "PER 34973 34977\n",
      "PER 35025 35029\n",
      "PER 35125 35129\n",
      "PER 35987 36000\n",
      "PER 36010 36012\n",
      "PER 36748 36754\n",
      "PER 41595 41610\n",
      "PER 42745 42753\n",
      "PER 44304 44312\n",
      "PER 44366 44374\n",
      "PER 44572 44580\n",
      "PER 46759 46785\n",
      "PER 53646 53657\n",
      "PER 53874 53880\n",
      "PER 55299 55310\n",
      "PER 55957 55963\n",
      "PER 57886 57890\n",
      "PER 57931 57935\n",
      "PER 58110 58119\n",
      "PER 60201 60212\n",
      "PER 60797 60806\n",
      "PER 62902 62910\n",
      "PER 62931 62943\n",
      "PER 63975 63977\n",
      "PER 69051 69056\n",
      "PER 71622 71631\n",
      "PER 73282 73283\n",
      "PER 76901 76906\n",
      "PER 85465 85466\n",
      "PER 91917 91924\n",
      "PER 98545 98547\n",
      "PER 101006 101013\n",
      "PER 103666 103674\n",
      "PER 103941 103943\n",
      "PER 104818 104832\n",
      "PER 109298 109314\n",
      "PER 109334 109357\n",
      "PER 109444 109452\n",
      "PER 109547 109555\n",
      "PER 109664 109671\n",
      "PER 118965 118972\n",
      "PER 119543 119553\n",
      "PER 119841 119849\n",
      "PER 119900 119910\n",
      "PER 120365 120385\n",
      "PER 122458 122467\n",
      "PER 123506 123514\n",
      "PER 124414 124436\n",
      "PER 124986 125001\n",
      "PER 126121 126132\n",
      "PER 126420 126426\n",
      "PER 127103 127106\n",
      "PER 127490 127495\n",
      "PER 127518 127523\n",
      "PER 127543 127547\n",
      "PER 127715 127728\n"
     ]
    }
   ],
   "source": [
    "import csv\n",
    "\n",
    "chemin_fichier_spacy = \"Evaluation/5431000_PER_2.csv\"\n",
    "\n",
    "import csv\n",
    "with open(chemin_fichier_spacy, \"r\", encoding=\"utf-8\", newline=\"\") as csvfile:\n",
    "    reader = csv.DictReader(csvfile, delimiter=\",\")\n",
    "    for row in reader:\n",
    "        print(row['Tag'], row['Indice_Début'], row['Indice_Fin'])"
   ]
  },
  {
   "cell_type": "code",
   "execution_count": null,
   "metadata": {},
   "outputs": [],
   "source": []
  }
 ],
 "metadata": {
  "kernelspec": {
   "display_name": "Python 3",
   "language": "python",
   "name": "python3"
  },
  "language_info": {
   "codemirror_mode": {
    "name": "ipython",
    "version": 3
   },
   "file_extension": ".py",
   "mimetype": "text/x-python",
   "name": "python",
   "nbconvert_exporter": "python",
   "pygments_lexer": "ipython3",
   "version": "3.7.0"
  }
 },
 "nbformat": 4,
 "nbformat_minor": 2
}
