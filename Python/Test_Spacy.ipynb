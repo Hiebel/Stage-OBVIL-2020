{
 "cells": [
  {
   "cell_type": "code",
   "execution_count": 12,
   "metadata": {
    "scrolled": true
   },
   "outputs": [
    {
     "name": "stdout",
     "output_type": "stream",
     "text": [
      "<class 'spacy.tokens.doc.Doc'>\n",
      "Paris 9 14 LOC\n",
      "{'uas': 0.0, 'las': 0.0, 'las_per_type': {}, 'ents_p': 0.0, 'ents_r': 0.0, 'ents_f': 0.0, 'ents_per_type': {}, 'tags_acc': 0.0, 'token_acc': 0.0, 'textcat_score': 0.0, 'textcats_per_cat': {}}\n",
      "----------\n",
      "<class 'spacy.tokens.doc.Doc'>\n",
      "Paris 0 5 LOC\n",
      "Nancy 9 14 LOC\n",
      "{'uas': 0.0, 'las': 0.0, 'las_per_type': {}, 'ents_p': 0.0, 'ents_r': 0.0, 'ents_f': 0.0, 'ents_per_type': {}, 'tags_acc': 0.0, 'token_acc': 0.0, 'textcat_score': 0.0, 'textcats_per_cat': {}}\n",
      "----------\n",
      "<class 'spacy.tokens.doc.Doc'>\n",
      "Londres 7 14 LOC\n",
      "Berlin 18 24 LOC\n",
      "{'uas': 0.0, 'las': 0.0, 'las_per_type': {}, 'ents_p': 0.0, 'ents_r': 0.0, 'ents_f': 0.0, 'ents_per_type': {}, 'tags_acc': 0.0, 'token_acc': 0.0, 'textcat_score': 0.0, 'textcats_per_cat': {}}\n",
      "----------\n"
     ]
    }
   ],
   "source": [
    "import spacy\n",
    "from spacy.gold import GoldParse\n",
    "from spacy.scorer import Scorer\n",
    "import fr_core_news_md\n",
    "\n",
    "def evaluate(ner_model, examples):\n",
    "    #scorer = Scorer()\n",
    "    for input_, annot in examples:\n",
    "        scorer = Scorer()\n",
    "        doc_gold_text = ner_model.make_doc(input_)\n",
    "        # Gold : valeurs de référence\n",
    "        gold = GoldParse(doc_gold_text, entities=annot)\n",
    "        # Valeurs prédites par le modèle\n",
    "        pred_value = ner_model(input_)\n",
    "        print(type(pred_value))\n",
    "        for ent in pred_value.ents:\n",
    "            print(ent.text, ent.start_char, ent.end_char, ent.label_)\n",
    "        print(scorer.scores)\n",
    "        print(\"-\"*10)\n",
    "    return scorer.scores\n",
    "\n",
    "examples = [\n",
    "    (\"C'est où Paris?\",\n",
    "     [(9, 14, 'LOC')]),\n",
    "    (\"Paris et Nancy\",\n",
    "     [(0, 5, 'LOC'), (9, 14, \"LOC\")]),\n",
    "    (\"J'aime Londres et Berlin.\",\n",
    "     [(7, 14, 'LOC')])\n",
    "]\n",
    "\n",
    "ner_model = spacy.load('fr_core_news_sm') # for spaCy's pretrained use 'en_core_web_sm'\n",
    "results = evaluate(ner_model, examples)\n",
    "#print(results)\n"
   ]
  },
  {
   "cell_type": "code",
   "execution_count": 1,
   "metadata": {},
   "outputs": [],
   "source": [
    "examples = [\n",
    "    (\"C'est où Paris?\",\n",
    "     [(9, 14, 'LOC')]),\n",
    "    (\"Paris et Nancy\",\n",
    "     [(0, 5, 'LOC'), (9, 14, \"LOC\")]),\n",
    "    ('I like London.',\n",
    "     [(7, 13, 'LOC')])\n",
    "]\n",
    "\n",
    "examples = [\n",
    "    (\"Monsieur le président de la République de la France\",\n",
    "     [(9, 51, 'PER')]),\n",
    "]"
   ]
  },
  {
   "cell_type": "code",
   "execution_count": 48,
   "metadata": {},
   "outputs": [
    {
     "name": "stdout",
     "output_type": "stream",
     "text": [
      "('Monsieur le président de la République de la France est Macron', [(9, 14, 'LOC')])\n",
      "le président de la République\n",
      "Macron\n"
     ]
    }
   ],
   "source": [
    "print(examples[0])\n",
    "print(examples[0][0][9:38])\n",
    "print(examples[0][0][56:62])"
   ]
  },
  {
   "cell_type": "code",
   "execution_count": null,
   "metadata": {},
   "outputs": [],
   "source": []
  }
 ],
 "metadata": {
  "kernelspec": {
   "display_name": "Python 3",
   "language": "python",
   "name": "python3"
  },
  "language_info": {
   "codemirror_mode": {
    "name": "ipython",
    "version": 3
   },
   "file_extension": ".py",
   "mimetype": "text/x-python",
   "name": "python",
   "nbconvert_exporter": "python",
   "pygments_lexer": "ipython3",
   "version": "3.7.0"
  }
 },
 "nbformat": 4,
 "nbformat_minor": 2
}
