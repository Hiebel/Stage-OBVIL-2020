{
 "cells": [
  {
   "cell_type": "code",
   "execution_count": 1,
   "metadata": {},
   "outputs": [],
   "source": [
    "import re\n",
    "from jiwer import wer\n",
    "\n",
    "def get_par(path):\n",
    "  f = open(path, encoding=\"utf-8\")\n",
    "  lignes  = f.readlines()\n",
    "  f.close()\n",
    "  liste_pars = []\n",
    "  current_par = \"\"\n",
    "  for l in lignes:\n",
    "    if len(l)>3:\n",
    "      current_par+=re.sub(\"\\n\", \"\", l)\n",
    "    else:\n",
    "      if len(current_par)>0:\n",
    "        liste_pars.append(current_par)\n",
    "        current_par = \"\"\n",
    "  return liste_pars\n",
    "\n",
    "def get_wer(fichier_base, fichier_corr):\n",
    "\n",
    "    par_base = get_par(fichier_base)\n",
    "    par_corr = get_par(fichier_corr)\n",
    "    \n",
    "    dic_diag = {\"Idem\":0, \"Diff\":[]}\n",
    "\n",
    "    eval_paragraphs = []\n",
    "    for i, par in enumerate(par_corr):\n",
    "      VP, FP, FN = 0, 0, 0\n",
    "      #print(par_base[i][:10])\n",
    "      #print(par_corr[i][:10])\n",
    "      #print(\"\")\n",
    "      mots_base = par_base[i].split()\n",
    "      for j, mot_corr in enumerate(par.split()):\n",
    "        if j>len(mots_base)-1:\n",
    "          dic_diag[\"Diff\"].append([mot_corr, \"\"])\n",
    "          FN+=1\n",
    "        elif mot_corr == mots_base[j]:\n",
    "          dic_diag[\"Idem\"]+=1\n",
    "          VP+=1\n",
    "        else:\n",
    "          dic_diag[\"Diff\"].append([mot_corr, mots_base[j]])\n",
    "          FP+=1\n",
    "      accuracy = VP/(VP+FP+FN) \n",
    "      WER = wer(par, par_base[i])\n",
    "      eval_paragraphs.append([accuracy, WER])\n",
    "    print(dic_diag[\"Idem\"], \"mots communs\")\n",
    "    print(len(dic_diag[\"Diff\"]))\n",
    "    \n",
    "    liste_wer = []\n",
    "    \n",
    "    for i, x in enumerate(eval_paragraphs):\n",
    "      accuracy, WER = x\n",
    "      #print(x)\n",
    "      liste_wer.append(x)\n",
    "      score_cumul = round(accuracy+WER, 1)#est égal à 1 ou très proche sauf pb de tokenization\n",
    "      if score_cumul>1.1 or score_cumul<0.9: #On a une distortion entre les deux\n",
    "        words_corr = par_corr[i].split()\n",
    "        for j, word_base in enumerate(par_base[i].split()):\n",
    "          if j<len(words_corr):\n",
    "            word_corr = words_corr[j]\n",
    "          else:\n",
    "            word_corr = \"______\"\n",
    "          #if word_base!=word_corr:\n",
    "            #print(f\"{j}\\t{word_base}\\t{word_corr}\")\n",
    "    \n",
    "    import json\n",
    "    name_out = \"errors.json\"\n",
    "    w = open(name_out, \"w\", encoding=\"utf-8\")\n",
    "    w.write(json.dumps(dic_diag[\"Diff\"], indent=2, ensure_ascii=False))\n",
    "    w.close()\n",
    "\n",
    "    print(f\"Erreurs : {name_out}\")\n",
    "\n",
    "    return liste_wer"
   ]
  },
  {
   "cell_type": "code",
   "execution_count": 7,
   "metadata": {},
   "outputs": [
    {
     "name": "stdout",
     "output_type": "stream",
     "text": [
      "2631 mots communs\n",
      "1420\n",
      "Erreurs : errors.json\n"
     ]
    }
   ],
   "source": [
    "fichier_auto = \"Fichiers_txt/PERRROT75_correction.txt\"\n",
    "fichier_corr = \"Fichiers_txt/PERRROT75CORR.txt\"\n",
    "\n",
    "l = get_wer(fichier_auto, fichier_corr)\n",
    "wers = [x[1] for x in l]"
   ]
  },
  {
   "cell_type": "code",
   "execution_count": 8,
   "metadata": {},
   "outputs": [
    {
     "name": "stdout",
     "output_type": "stream",
     "text": [
      "3265 mots communs\n",
      "786\n",
      "Erreurs : errors.json\n"
     ]
    }
   ],
   "source": [
    "fichier_base = \"Fichiers_txt/PERRROT75.txt\"\n",
    "fichier_corr = \"Fichiers_txt/PERRROT75CORR.txt\"\n",
    "\n",
    "l2 = get_wer(fichier_base, fichier_corr)\n",
    "\n",
    "wers2 = [x[1] for x in l2]"
   ]
  },
  {
   "cell_type": "code",
   "execution_count": 9,
   "metadata": {},
   "outputs": [],
   "source": [
    "import numpy as np"
   ]
  },
  {
   "cell_type": "code",
   "execution_count": 10,
   "metadata": {},
   "outputs": [
    {
     "name": "stdout",
     "output_type": "stream",
     "text": [
      "Fichier corrigé automatiquement\n",
      "Moyenne : 0.242374\n",
      "Ecart-type : 0.275868\n",
      "----------\n",
      "Fichier non corrigé\n",
      "Moyenne : 0.199208\n",
      "Ecart-type : 0.284136\n"
     ]
    }
   ],
   "source": [
    "print(\"Fichier corrigé automatiquement\")\n",
    "print(\"Moyenne des WER des paragraphes : %f\" % np.mean(wers))\n",
    "print(\"Ecart-type : %f\" % np.nanstd(wers))\n",
    "print(\"-\"*10)\n",
    "print(\"Fichier non corrigé\")\n",
    "print(\"Moyenne des WER des paragraphes : %f\" % np.mean(wers2))\n",
    "print(\"Ecart-type : %f\" % np.nanstd(wers2))"
   ]
  },
  {
   "cell_type": "code",
   "execution_count": 120,
   "metadata": {},
   "outputs": [
    {
     "name": "stdout",
     "output_type": "stream",
     "text": [
      "57\n"
     ]
    }
   ],
   "source": [
    "print(len(wers))"
   ]
  },
  {
   "cell_type": "code",
   "execution_count": 11,
   "metadata": {},
   "outputs": [],
   "source": [
    "paliers = [0, 0.1, 0.25, 0.5, 0.75, 1]\n",
    "\n",
    "def grouper(liste_wer, paliers):\n",
    "    groupes = []\n",
    "\n",
    "    for i in range(0, len(paliers)):\n",
    "        groupes.append([])\n",
    "\n",
    "    for el in liste_wer:\n",
    "        for i in range(0, len(paliers)):\n",
    "            if i < len(paliers)-1:\n",
    "                if el >= paliers[i] and el < paliers[i+1]:\n",
    "                    groupes[i].append(el)\n",
    "            else:\n",
    "                if el >= paliers[i]:\n",
    "                    groupes[i].append(el)\n",
    "\n",
    "    #print(groupes)\n",
    "    repartition = [len(x) for x in groupes]\n",
    "    #print(repartition)\n",
    "    return repartition, groupes\n",
    "\n",
    "def calculer_cumul(liste):\n",
    "    cumuls = []\n",
    "    c = 0\n",
    "    for l in liste:\n",
    "        c += l\n",
    "        cumuls.append(c)\n",
    "    #print(cumuls)\n",
    "    return cumuls"
   ]
  },
  {
   "cell_type": "code",
   "execution_count": 12,
   "metadata": {},
   "outputs": [],
   "source": [
    "repartition, groupes = grouper(wers, paliers)\n",
    "repartition2, groupes2 = grouper(wers2, paliers)\n",
    "\n",
    "cumuls = calculer_cumul(repartition)\n",
    "cumuls2 = calculer_cumul(repartition2)"
   ]
  },
  {
   "cell_type": "code",
   "execution_count": 18,
   "metadata": {},
   "outputs": [
    {
     "data": {
      "image/png": "[encoded data removed]",
      "text/plain": [
       "<Figure size 432x288 with 1 Axes>"
      ]
     },
     "metadata": {
      "needs_background": "light"
     },
     "output_type": "display_data"
    }
   ],
   "source": [
    "import matplotlib.pyplot as plt\n",
    "\n",
    "plt.plot(paliers, repartition, label=\"Version corrigée\")\n",
    "plt.plot(paliers, repartition2, label = \"Version non corrigée\")\n",
    "plt.legend()\n",
    "plt.show()"
   ]
  },
  {
   "cell_type": "code",
   "execution_count": 15,
   "metadata": {},
   "outputs": [
    {
     "data": {
      "image/png": "[encoded data removed]",
      "text/plain": [
       "<Figure size 432x288 with 1 Axes>"
      ]
     },
     "metadata": {
      "needs_background": "light"
     },
     "output_type": "display_data"
    }
   ],
   "source": [
    "plt.plot(paliers, cumuls, label=\"Version corrigée\")\n",
    "plt.plot(paliers, cumuls2, label = \"Version non corrigée\")\n",
    "plt.xlabel(\"Valeur du WER\")\n",
    "plt.ylabel(\"Nombre de paragraphes\")\n",
    "plt.title(\"Cumul du nombre de paragraphes en fonction de la valeur du WER\")\n",
    "plt.legend()\n",
    "plt.show()"
   ]
  },
  {
   "cell_type": "code",
   "execution_count": 214,
   "metadata": {},
   "outputs": [
    {
     "data": {
      "image/png": "[encoded data removed]",
      "text/plain": [
       "<Figure size 432x288 with 1 Axes>"
      ]
     },
     "metadata": {
      "needs_background": "light"
     },
     "output_type": "display_data"
    }
   ],
   "source": [
    "# peu significatif\n",
    "\n",
    "plt.bar(paliers, repartition, width=0.05)\n",
    "#plt.bar(paliers, repartition2, width=0.1)\n",
    "plt.show()"
   ]
  },
  {
   "cell_type": "code",
   "execution_count": 19,
   "metadata": {},
   "outputs": [],
   "source": [
    "# on pourrait rajouter le CER (caractère error rate)"
   ]
  },
  {
   "cell_type": "code",
   "execution_count": null,
   "metadata": {},
   "outputs": [],
   "source": []
  }
 ],
 "metadata": {
  "kernelspec": {
   "display_name": "Python 3",
   "language": "python",
   "name": "python3"
  },
  "language_info": {
   "codemirror_mode": {
    "name": "ipython",
    "version": 3
   },
   "file_extension": ".py",
   "mimetype": "text/x-python",
   "name": "python",
   "nbconvert_exporter": "python",
   "pygments_lexer": "ipython3",
   "version": "3.7.4"
  }
 },
 "nbformat": 4,
 "nbformat_minor": 2
}
