{
 "cells": [
  {
   "cell_type": "code",
   "execution_count": 1,
   "metadata": {},
   "outputs": [],
   "source": [
    "import nltk\n",
    "from nltk.tokenize import word_tokenize\n",
    "import json\n",
    "import csv\n",
    "\n",
    "def tokenizer_nltk_fichier_text(fichier, langue):\n",
    "    liste_tokens = []\n",
    "    with open(fichier, \"r\", encoding=\"utf-8\") as fin:\n",
    "        contenu = fin.read()\n",
    "        liste_tokens = word_tokenize(contenu, language=langue)\n",
    "    return(liste_tokens)\n",
    "\n",
    "def tokenizer_nltk_text(texte, langue):\n",
    "    liste_tokens = word_tokenize(texte, language=langue)\n",
    "    return(liste_tokens)\n",
    "\n",
    "def lire_fichier(fichier):\n",
    "    with open(fichier, \"r\", encoding=\"utf-8\") as fin:\n",
    "        contenu = fin.read()\n",
    "    return contenu\n",
    "\n",
    "def ecrire_json(chemin , contenu):\n",
    "    with open(chemin , \"w\", encoding=\"utf-8\") as fout:\n",
    "        fout.write(json.dumps(contenu , indent=2, ensure_ascii=False))\n",
    "        \n",
    "def lire_json(chemin):\n",
    "    dic = {}\n",
    "    with open(chemin , \"r\", encoding=\"utf-8\") as fin:\n",
    "        dic = json.load(fin)\n",
    "    return dic"
   ]
  },
  {
   "cell_type": "code",
   "execution_count": 2,
   "metadata": {},
   "outputs": [],
   "source": [
    "# chemins des textes concernés\n",
    "\n",
    "chemin_correction = \"Fichiers_txt/PERRROT75CORR.txt\"\n",
    "\n",
    "chemin_base = \"Fichiers_txt/PERRROT75.txt\""
   ]
  },
  {
   "cell_type": "code",
   "execution_count": 3,
   "metadata": {},
   "outputs": [],
   "source": [
    "from spellchecker import SpellChecker\n",
    "\n",
    "spell = SpellChecker(language='fr')"
   ]
  },
  {
   "cell_type": "code",
   "execution_count": 4,
   "metadata": {},
   "outputs": [
    {
     "name": "stdout",
     "output_type": "stream",
     "text": [
      "24987\n",
      "25025\n"
     ]
    }
   ],
   "source": [
    "# corriger les erreurs contenu dans le fichier de la liste d'erreurs\n",
    "\n",
    "entetes = [\"Erreur observée\", \"Correction proposée\"]\n",
    "\n",
    "# liste des mots présents dans le fichier qui ne sont peut-être pas présents dans le dictionnaire\n",
    "liste_corrections = []\n",
    "\n",
    "texte_base = lire_fichier(chemin_base)\n",
    "\n",
    "print(len(texte_base))\n",
    "\n",
    "with open('Correction_automatique.csv', \"r\", encoding=\"utf-8\", newline='') as csvfile:\n",
    "    reader = csv.DictReader(csvfile, delimiter='\\t')\n",
    "    for row in reader:\n",
    "        #print(row[entetes[0]], row[entetes[1]])\n",
    "        texte_base = texte_base.replace(row[entetes[0]], row[entetes[1]])\n",
    "        liste_corrections.append(row[entetes[1]])\n",
    "\n",
    "\n",
    "# ajouter les formes corrigées dans le dictionnaire, pour qu'elles ne soient pas corrigées à leur tour si elle ne sont pas connues        \n",
    "spell.word_frequency.load_words(liste_corrections)\n",
    "\n",
    "print(len(texte_base))"
   ]
  },
  {
   "cell_type": "code",
   "execution_count": 5,
   "metadata": {},
   "outputs": [
    {
     "name": "stdout",
     "output_type": "stream",
     "text": [
      "4776\n",
      "570\n"
     ]
    }
   ],
   "source": [
    "# transformer en tokens\n",
    "\n",
    "tokens_base = tokenizer_nltk_text(texte_base, \"french\")\n",
    "print(len(tokens_base))\n",
    "\n",
    "erreurs = spell.unknown(tokens_base)\n",
    "print(len(erreurs))"
   ]
  },
  {
   "cell_type": "code",
   "execution_count": null,
   "metadata": {},
   "outputs": [
    {
     "name": "stdout",
     "output_type": "stream",
     "text": [
      "sule seule\n",
      "alourdissant assourdissant\n",
      "d'hui hui\n",
      "busqué musqué\n",
      "frisées brisées\n",
      "d'avis davis\n",
      "larçeurs largeur\n",
      "cons- cons\n",
      "magnésie amnésie\n",
      "56-1 56-1\n",
      "n'avait n’avait\n",
      "sostris souris\n",
      "défbnnée défoncée\n"
     ]
    }
   ],
   "source": [
    "erreurs_set = set(erreurs)\n",
    "\n",
    "for err in erreurs:\n",
    "    print(err, spell.correction(err))"
   ]
  },
  {
   "cell_type": "code",
   "execution_count": 6,
   "metadata": {},
   "outputs": [],
   "source": [
    "from spellchecker import SpellChecker\n",
    "\n",
    "def correction(fichier_entree):\n",
    "    chemin_base = fichier_entree\n",
    "    spell = SpellChecker(language='fr')\n",
    "    # corriger les erreurs contenu dans le fichier de la liste d'erreurs\n",
    "    entetes = [\"Erreur observée\", \"Correction proposée\"]\n",
    "    # liste des mots présents dans le fichier qui ne sont peut-être pas présents dans le dictionnaire\n",
    "    liste_corrections = []\n",
    "\n",
    "    texte_base = lire_fichier(chemin_base)\n",
    "    print(len(texte_base))\n",
    "\n",
    "    with open('Correction_automatique.csv', \"r\", encoding=\"utf-8\", newline='') as csvfile:\n",
    "        reader = csv.DictReader(csvfile, delimiter='\\t')\n",
    "        for row in reader:\n",
    "            #print(row[entetes[0]], row[entetes[1]])\n",
    "            texte_base = texte_base.replace(row[entetes[0]], row[entetes[1]])\n",
    "            liste_corrections.append(row[entetes[1]])\n",
    "\n",
    "    # ajouter les formes corrigées dans le dictionnaire, pour qu'elles ne soient pas corrigées à leur tour si elle ne sont pas connues        \n",
    "    spell.word_frequency.load_words(liste_corrections)\n",
    "\n",
    "    print(len(texte_base))\n",
    "    \n",
    "    # transformer en tokens\n",
    "\n",
    "    tokens_base = tokenizer_nltk_text(texte_base, \"french\")\n",
    "    print(len(tokens_base))\n",
    "\n",
    "    erreurs = spell.unknown(tokens_base)\n",
    "    print(len(erreurs))\n",
    "    #erreurs_set = set(erreurs)\n",
    "\n",
    "    for err in erreurs:\n",
    "        print(err, spell.correction(err))\n",
    "        break"
   ]
  },
  {
   "cell_type": "code",
   "execution_count": 7,
   "metadata": {},
   "outputs": [
    {
     "name": "stdout",
     "output_type": "stream",
     "text": [
      "24987\n",
      "25025\n",
      "4776\n",
      "570\n",
      "quetques quelques\n"
     ]
    }
   ],
   "source": [
    "correction(chemin_base)"
   ]
  },
  {
   "cell_type": "code",
   "execution_count": null,
   "metadata": {},
   "outputs": [],
   "source": []
  }
 ],
 "metadata": {
  "kernelspec": {
   "display_name": "Python 3",
   "language": "python",
   "name": "python3"
  },
  "language_info": {
   "codemirror_mode": {
    "name": "ipython",
    "version": 3
   },
   "file_extension": ".py",
   "mimetype": "text/x-python",
   "name": "python",
   "nbconvert_exporter": "python",
   "pygments_lexer": "ipython3",
   "version": "3.7.0"
  }
 },
 "nbformat": 4,
 "nbformat_minor": 2
}
